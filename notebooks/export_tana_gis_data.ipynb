{
 "cells": [
  {
   "cell_type": "code",
   "execution_count": 1,
   "metadata": {},
   "outputs": [
    {
     "name": "stderr",
     "output_type": "stream",
     "text": [
      "/opt/conda/lib/python3.8/site-packages/geopandas/_compat.py:106: UserWarning: The Shapely GEOS version (3.8.0-CAPI-1.13.1 ) is incompatible with the GEOS version PyGEOS was compiled with (3.9.0-CAPI-1.16.2). Conversions between both will be slow.\n",
      "  warnings.warn(\n"
     ]
    }
   ],
   "source": [
    "import os\n",
    "import shutil\n",
    "\n",
    "import geopandas as gpd\n",
    "import pandas as pd\n",
    "import nivapy3 as nivapy\n",
    "from shapely.geometry import box"
   ]
  },
  {
   "cell_type": "code",
   "execution_count": 2,
   "metadata": {},
   "outputs": [
    {
     "name": "stdout",
     "output_type": "stream",
     "text": [
      "Connection successful.\n"
     ]
    }
   ],
   "source": [
    "# Connect to PostGIS\n",
    "eng = nivapy.da.connect_postgis()"
   ]
  },
  {
   "cell_type": "markdown",
   "metadata": {},
   "source": [
    "## Get main catchment\n",
    "\n",
    "Also display the bounds as lat/lon."
   ]
  },
  {
   "cell_type": "code",
   "execution_count": 3,
   "metadata": {},
   "outputs": [
    {
     "data": {
      "text/html": [
       "<div>\n",
       "<style scoped>\n",
       "    .dataframe tbody tr th:only-of-type {\n",
       "        vertical-align: middle;\n",
       "    }\n",
       "\n",
       "    .dataframe tbody tr th {\n",
       "        vertical-align: top;\n",
       "    }\n",
       "\n",
       "    .dataframe thead th {\n",
       "        text-align: right;\n",
       "    }\n",
       "</style>\n",
       "<table border=\"1\" class=\"dataframe\">\n",
       "  <thead>\n",
       "    <tr style=\"text-align: right;\">\n",
       "      <th></th>\n",
       "      <th>minx</th>\n",
       "      <th>miny</th>\n",
       "      <th>maxx</th>\n",
       "      <th>maxy</th>\n",
       "    </tr>\n",
       "  </thead>\n",
       "  <tbody>\n",
       "    <tr>\n",
       "      <th>215</th>\n",
       "      <td>23.701473</td>\n",
       "      <td>68.552719</td>\n",
       "      <td>29.10171</td>\n",
       "      <td>70.750101</td>\n",
       "    </tr>\n",
       "  </tbody>\n",
       "</table>\n",
       "</div>"
      ],
      "text/plain": [
       "          minx       miny      maxx       maxy\n",
       "215  23.701473  68.552719  29.10171  70.750101"
      ]
     },
     "execution_count": 3,
     "metadata": {},
     "output_type": "execute_result"
    }
   ],
   "source": [
    "# Get main catchment\n",
    "vassom_gdf = nivapy.da.read_postgis(\n",
    "        'physical',\n",
    "        'norway_nve_vassdragomrade_poly',\n",
    "        eng,\n",
    ")\n",
    "vassom_gdf = vassom_gdf.query(\"vassdragsomradenr == '234'\")\n",
    "vassom_gdf.bounds"
   ]
  },
  {
   "cell_type": "markdown",
   "metadata": {},
   "source": [
    "The best projected co-ordinate system to use between 24 and 30 degrees E is UTM Zone 35N (see [here](https://epsg.io/32635)). However, most of the datasets I have are national scale and use EPSG 25833, which should be good enough in most cases. Reprojecting to Zone 35N may be wise for any critical area calculations, but I won't worry about this for now."
   ]
  },
  {
   "cell_type": "code",
   "execution_count": 4,
   "metadata": {},
   "outputs": [],
   "source": [
    "# Reproject and save\n",
    "vassom_gdf = vassom_gdf.to_crs(epsg=25833)\n",
    "fpath = \"/home/jovyan/shared/QUANTOM/data/gis/tana_vassdragsomrade.geojson\"\n",
    "vassom_gdf.to_file(fpath, driver=\"GeoJSON\")\n",
    "\n",
    "## Save bounding box\n",
    "#bnds = vassom_gdf.bounds\n",
    "#b = [box(l, b, r, t) for l, b, r, t in zip(bnds.minx, bnds.miny, bnds.maxx, bnds.maxy)]\n",
    "#vassom_bb = gpd.GeoDataFrame(bnds, geometry=b)\n",
    "#fpath = \"../data/shapefiles/tana_vassdragsomrade_bounding_box.geojson\"\n",
    "#vassom_bb.to_file(fpath, driver=\"GeoJSON\")"
   ]
  },
  {
   "cell_type": "markdown",
   "metadata": {},
   "source": [
    "## Extract vector and raster layers of interest\n",
    "\n",
    "Available vector layers are [here](https://github.com/NIVANorge/niva_jupyter_hub/blob/master/postgis_db/postgis_db_dataset_summary.md)."
   ]
  },
  {
   "cell_type": "code",
   "execution_count": 5,
   "metadata": {},
   "outputs": [],
   "source": [
    "# Path to boundng box\n",
    "bbox_path = \"/home/jovyan/shared/QUANTOM/data/gis/tana_vassdragsomrade.geojson\"\n",
    "\n",
    "# Output folder\n",
    "out_fold = \"/home/jovyan/shared/QUANTOM/data/gis\"\n",
    "\n",
    "# Vector layers of interest\n",
    "# See https://github.com/NIVANorge/niva_jupyter_hub/blob/master/postgis_db/postgis_db_dataset_summary.md\n",
    "vec_layers = [\n",
    "    \"physical.norway_nibio_corine_2000_poly\",\n",
    "    \"physical.norway_nibio_corine_2006_poly\",\n",
    "    \"physical.norway_nibio_corine_2012_poly\",\n",
    "    \"physical.norway_nibio_corine_2018_poly\",\n",
    "    \"physical.norway_nibio_ar50_poly\",\n",
    "    \"physical.norway_nve_elvis_river_network_line\",\n",
    "    \"physical.norway_nve_innsjo_poly\",\n",
    "]\n",
    "\n",
    "# Raster layers of interest\n",
    "# See shared/01_datasets/spatial\n",
    "ras_layers = [\n",
    "    r\"/home/jovyan/shared/01_datasets/spatial/norway_kartverket_50m_dem.tif\",\n",
    "    r\"/home/jovyan/shared/01_datasets/spatial/norway_kartverket_50m_hillshade.tif\",\n",
    "]"
   ]
  },
  {
   "cell_type": "code",
   "execution_count": 6,
   "metadata": {},
   "outputs": [
    {
     "name": "stdout",
     "output_type": "stream",
     "text": [
      "Processing: physical.norway_nibio_corine_2000_poly\n",
      "WARNING: The projection of 'clip' differs from the target dataset.\n",
      "Converting to the projection of target dataset (epsg:32633)\n",
      "Processing: physical.norway_nibio_corine_2006_poly\n",
      "WARNING: The projection of 'clip' differs from the target dataset.\n",
      "Converting to the projection of target dataset (epsg:32633)\n",
      "Processing: physical.norway_nibio_corine_2012_poly\n",
      "WARNING: The projection of 'clip' differs from the target dataset.\n",
      "Converting to the projection of target dataset (epsg:32633)\n",
      "Processing: physical.norway_nibio_corine_2018_poly\n",
      "WARNING: The projection of 'clip' differs from the target dataset.\n",
      "Converting to the projection of target dataset (epsg:32633)\n",
      "Processing: physical.norway_nibio_ar50_poly\n",
      "Processing: physical.norway_nve_elvis_river_network_line\n",
      "WARNING: The projection of 'clip' differs from the target dataset.\n",
      "Converting to the projection of target dataset (epsg:32633)\n",
      "Processing: physical.norway_nve_innsjo_poly\n"
     ]
    }
   ],
   "source": [
    "# Read clip features\n",
    "bb_gdf = gpd.read_file(bbox_path)\n",
    "\n",
    "# Loop over layers\n",
    "for layer in vec_layers:\n",
    "    print(f\"Processing: {layer}\")\n",
    "\n",
    "    # Read layer, clipping to bounding box\n",
    "    schema, table = layer.split(\".\")\n",
    "    gdf = nivapy.da.read_postgis(\n",
    "        schema,\n",
    "        table,\n",
    "        eng,\n",
    "        clip=bb_gdf,\n",
    "    )\n",
    "\n",
    "    # Reproject\n",
    "    gdf = gdf.to_crs(epsg=25833)\n",
    "    \n",
    "    # Save\n",
    "    fpath = os.path.join(out_fold, f\"{table}.geojson\")\n",
    "    gdf.to_file(fpath, driver=\"GeoJSON\")"
   ]
  },
  {
   "cell_type": "code",
   "execution_count": 7,
   "metadata": {},
   "outputs": [
    {
     "name": "stdout",
     "output_type": "stream",
     "text": [
      "Processing: /home/jovyan/shared/01_datasets/spatial/norway_kartverket_50m_dem.tif\n",
      "WARNING: The projection of 'clip' differs from the target dataset.\n",
      "Converting to the projection of target dataset ({'proj': 'utm', 'zone': 33, 'ellps': 'GRS80', 'units': 'm', 'no_defs': True})\n",
      "Processing: /home/jovyan/shared/01_datasets/spatial/norway_kartverket_50m_hillshade.tif\n",
      "WARNING: The projection of 'clip' differs from the target dataset.\n",
      "Converting to the projection of target dataset ({'proj': 'utm', 'zone': 33, 'ellps': 'GRS80', 'units': 'm', 'no_defs': True})\n"
     ]
    }
   ],
   "source": [
    "# Loop over layers\n",
    "for layer in ras_layers:\n",
    "    print(f\"Processing: {layer}\")\n",
    "\n",
    "    # Read layer, clipping to bounding box\n",
    "    fname = os.path.split(layer)[1]\n",
    "    out_gtiff = os.path.join(out_fold, fname)\n",
    "    nivapy.spatial.clip_raster_to_gdf(\n",
    "        layer,\n",
    "        out_gtiff,\n",
    "        bb_gdf,\n",
    "        bounding_box=True,\n",
    "    )"
   ]
  },
  {
   "cell_type": "markdown",
   "metadata": {},
   "source": [
    "## Extract \"regine\" catchments\n",
    "\n",
    "Rather than \"clipping\" these as with the other vector layers above, it makes more sense to just query all the regine units associated with Tana (vassdragsområde 234)."
   ]
  },
  {
   "cell_type": "code",
   "execution_count": 8,
   "metadata": {},
   "outputs": [],
   "source": [
    "# Get all regine catchments within Tana\n",
    "reg_gdf = nivapy.da.read_postgis(\n",
    "        'physical',\n",
    "        'norway_nve_regine_catchments_poly',\n",
    "        eng,\n",
    ")\n",
    "reg_gdf = reg_gdf[reg_gdf['vassdragsnummer'].str.startswith('234')]\n",
    "\n",
    "# Save\n",
    "fpath = \"/home/jovyan/shared/QUANTOM/data/gis/tana_regine.geojson\"\n",
    "reg_gdf.to_file(fpath, driver=\"GeoJSON\")"
   ]
  }
 ],
 "metadata": {
  "kernelspec": {
   "display_name": "Python 3",
   "language": "python",
   "name": "python3"
  },
  "language_info": {
   "codemirror_mode": {
    "name": "ipython",
    "version": 3
   },
   "file_extension": ".py",
   "mimetype": "text/x-python",
   "name": "python",
   "nbconvert_exporter": "python",
   "pygments_lexer": "ipython3",
   "version": "3.8.6"
  }
 },
 "nbformat": 4,
 "nbformat_minor": 4
}
